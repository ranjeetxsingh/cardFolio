{
 "cells": [
  {
   "cell_type": "code",
   "execution_count": 14,
   "id": "4d7d5045-0d26-42e7-b9c7-1d3b334bd180",
   "metadata": {},
   "outputs": [],
   "source": [
    "import numpy as np\n",
    "import pandas as pd\n",
    "import cv2\n",
    "import pytesseract\n",
    "\n",
    "import os\n",
    "from glob import glob\n",
    "from tqdm import tqdm\n",
    "\n",
    "import warnings\n",
    "warnings.filterwarnings('ignore')"
   ]
  },
  {
   "cell_type": "code",
   "execution_count": 15,
   "id": "1047822f-22ad-4de7-8323-467a68d4b95a",
   "metadata": {},
   "outputs": [],
   "source": [
    "imgPaths = glob('BusinessCardData/Selected/*.jpeg') "
   ]
  },
  {
   "cell_type": "code",
   "execution_count": 33,
   "id": "72e95c85-b9aa-4d8b-bf92-cae0201c5ce4",
   "metadata": {},
   "outputs": [
    {
     "name": "stderr",
     "output_type": "stream",
     "text": [
      "BusinessCard: 100%|█████████████████████████████████████████████████████████████████████████| 293/293 [02:24<00:00,  2.02it/s]\n"
     ]
    }
   ],
   "source": [
    "allBusinessCard = pd.DataFrame(columns=['id', 'text'])\n",
    "\n",
    "for imgPath in tqdm(imgPaths, desc='BusinessCard'):\n",
    "\n",
    "    # imgPath = imgPaths[0]\n",
    "    # print(imgPath)\n",
    "    _, filename = os.path.split(imgPath)\n",
    "    # print(filename)\n",
    "    # Extract data and text\n",
    "    image = cv2.imread(imgPath)\n",
    "    data = pytesseract.image_to_data(image)\n",
    "    dataList = list(map(lambda x: x.split('\\t'), data.split('\\n')))\n",
    "    df = pd.DataFrame(dataList[1:], columns=dataList[0])\n",
    "    df.dropna(inplace=True)\n",
    "    df['conf'] = df['conf'].astype(float)\n",
    "    \n",
    "    useFulData = df.query('conf >= 30')\n",
    "    \n",
    "    # Dataframe \n",
    "    businessCard = pd.DataFrame()\n",
    "    businessCard['text'] = useFulData['text']\n",
    "    businessCard['id'] = filename\n",
    "\n",
    "    # concatenation\n",
    "    allBusinessCard = pd.concat((allBusinessCard, businessCard))"
   ]
  },
  {
   "cell_type": "code",
   "execution_count": 36,
   "id": "89ef4f65-e4e7-4ae0-9a6a-81a294d6d42f",
   "metadata": {},
   "outputs": [],
   "source": [
    "allBusinessCard.to_csv('businessCard.csv', index=False)"
   ]
  },
  {
   "cell_type": "code",
   "execution_count": null,
   "id": "148cc194-bd11-4793-9d0c-25d6124b95d6",
   "metadata": {},
   "outputs": [],
   "source": []
  }
 ],
 "metadata": {
  "kernelspec": {
   "display_name": "Python 3 (ipykernel)",
   "language": "python",
   "name": "python3"
  },
  "language_info": {
   "codemirror_mode": {
    "name": "ipython",
    "version": 3
   },
   "file_extension": ".py",
   "mimetype": "text/x-python",
   "name": "python",
   "nbconvert_exporter": "python",
   "pygments_lexer": "ipython3",
   "version": "3.11.3"
  },
  "widgets": {
   "application/vnd.jupyter.widget-state+json": {
    "state": {},
    "version_major": 2,
    "version_minor": 0
   }
  }
 },
 "nbformat": 4,
 "nbformat_minor": 5
}
