{
 "cells": [
  {
   "cell_type": "code",
   "execution_count": 1,
   "id": "64f89386-d142-44e1-b754-39914ef15612",
   "metadata": {},
   "outputs": [],
   "source": [
    "import numpy as np\n",
    "import pandas as pd\n",
    "import string\n",
    "import re"
   ]
  },
  {
   "cell_type": "code",
   "execution_count": 2,
   "id": "1a9fcda4-e112-4af6-99a7-096c150bf0d5",
   "metadata": {},
   "outputs": [],
   "source": [
    "with open('businessCard.txt', mode='r', encoding='utf8', errors='ignore') as f:\n",
    "    text = f.read()"
   ]
  },
  {
   "cell_type": "code",
   "execution_count": 6,
   "id": "c6ce9b50-93d4-4ef5-b124-d189006a5c98",
   "metadata": {},
   "outputs": [],
   "source": [
    "data = list(map(lambda x: x.split('\\t'), text.split('\\n')))"
   ]
  },
  {
   "cell_type": "code",
   "execution_count": 7,
   "id": "ba27109a-3811-4a3b-b3dc-b19f3bc67bea",
   "metadata": {},
   "outputs": [],
   "source": [
    "df = pd.DataFrame(data[1:], columns=data[0])"
   ]
  },
  {
   "cell_type": "code",
   "execution_count": 8,
   "id": "d74222fe-55cb-4277-94d1-06c257e5eb28",
   "metadata": {},
   "outputs": [
    {
     "data": {
      "text/html": [
       "<div>\n",
       "<style scoped>\n",
       "    .dataframe tbody tr th:only-of-type {\n",
       "        vertical-align: middle;\n",
       "    }\n",
       "\n",
       "    .dataframe tbody tr th {\n",
       "        vertical-align: top;\n",
       "    }\n",
       "\n",
       "    .dataframe thead th {\n",
       "        text-align: right;\n",
       "    }\n",
       "</style>\n",
       "<table border=\"1\" class=\"dataframe\">\n",
       "  <thead>\n",
       "    <tr style=\"text-align: right;\">\n",
       "      <th></th>\n",
       "      <th>id</th>\n",
       "      <th>text</th>\n",
       "      <th>tag</th>\n",
       "    </tr>\n",
       "  </thead>\n",
       "  <tbody>\n",
       "    <tr>\n",
       "      <th>0</th>\n",
       "      <td>000.jpeg</td>\n",
       "      <td></td>\n",
       "      <td>O</td>\n",
       "    </tr>\n",
       "    <tr>\n",
       "      <th>1</th>\n",
       "      <td>000.jpeg</td>\n",
       "      <td>.</td>\n",
       "      <td>O</td>\n",
       "    </tr>\n",
       "    <tr>\n",
       "      <th>2</th>\n",
       "      <td>000.jpeg</td>\n",
       "      <td>040-4852</td>\n",
       "      <td>B-PHONE</td>\n",
       "    </tr>\n",
       "    <tr>\n",
       "      <th>3</th>\n",
       "      <td>000.jpeg</td>\n",
       "      <td>\"8881,\"</td>\n",
       "      <td>I-PHONE</td>\n",
       "    </tr>\n",
       "    <tr>\n",
       "      <th>4</th>\n",
       "      <td>000.jpeg</td>\n",
       "      <td>90309</td>\n",
       "      <td>B-PHONE</td>\n",
       "    </tr>\n",
       "  </tbody>\n",
       "</table>\n",
       "</div>"
      ],
      "text/plain": [
       "         id      text      tag\n",
       "0  000.jpeg                  O\n",
       "1  000.jpeg         .        O\n",
       "2  000.jpeg  040-4852  B-PHONE\n",
       "3  000.jpeg   \"8881,\"  I-PHONE\n",
       "4  000.jpeg     90309  B-PHONE"
      ]
     },
     "execution_count": 8,
     "metadata": {},
     "output_type": "execute_result"
    }
   ],
   "source": [
    "df.head()"
   ]
  },
  {
   "cell_type": "code",
   "execution_count": 9,
   "id": "1b430455-877d-4252-bf20-c66404c88266",
   "metadata": {},
   "outputs": [],
   "source": [
    "### Cleaning Text\n",
    "# Remove white spaces\n",
    "# Remove unwanted special characters"
   ]
  },
  {
   "cell_type": "code",
   "execution_count": 17,
   "id": "6aae2f5a-767f-4742-b602-c809fd7d7717",
   "metadata": {},
   "outputs": [],
   "source": [
    "whitespace = string.whitespace\n",
    "punctuation = '!#$%&\\'()*+-:;<=>?[\\\\]^`{|}~'\n",
    "tableWhitespace = str.maketrans('','', whitespace)\n",
    "tablePunctuation = str.maketrans('', '', punctuation)\n",
    "def cleanText(txt):\n",
    "    text = str(txt)\n",
    "    text = text.lower()\n",
    "    removewhitespace = text.translate(tableWhitespace)\n",
    "    removepunctuation = removewhitespace.translate(tablePunctuation)\n",
    "\n",
    "    return str(removepunctuation)"
   ]
  },
  {
   "cell_type": "code",
   "execution_count": 18,
   "id": "b0e5dfab-04dd-4401-ad1f-584bc398bad8",
   "metadata": {},
   "outputs": [],
   "source": [
    "df['text'] = df['text'].apply(cleanText)"
   ]
  },
  {
   "cell_type": "code",
   "execution_count": 19,
   "id": "09b8557d-7197-4a6e-a6b4-f10cc17fbef2",
   "metadata": {},
   "outputs": [
    {
     "name": "stderr",
     "output_type": "stream",
     "text": [
      "C:\\Users\\136484\\AppData\\Local\\Temp\\ipykernel_916\\3379659824.py:2: SettingWithCopyWarning: \n",
      "A value is trying to be set on a copy of a slice from a DataFrame\n",
      "\n",
      "See the caveats in the documentation: https://pandas.pydata.org/pandas-docs/stable/user_guide/indexing.html#returning-a-view-versus-a-copy\n",
      "  dataClean.dropna(inplace=True)\n"
     ]
    }
   ],
   "source": [
    "dataClean = df.query(\"text != '' \")\n",
    "dataClean.dropna(inplace=True)"
   ]
  },
  {
   "cell_type": "code",
   "execution_count": 20,
   "id": "04bc7889-7b3e-4860-b561-9f621dc05b0c",
   "metadata": {},
   "outputs": [
    {
     "data": {
      "text/html": [
       "<div>\n",
       "<style scoped>\n",
       "    .dataframe tbody tr th:only-of-type {\n",
       "        vertical-align: middle;\n",
       "    }\n",
       "\n",
       "    .dataframe tbody tr th {\n",
       "        vertical-align: top;\n",
       "    }\n",
       "\n",
       "    .dataframe thead th {\n",
       "        text-align: right;\n",
       "    }\n",
       "</style>\n",
       "<table border=\"1\" class=\"dataframe\">\n",
       "  <thead>\n",
       "    <tr style=\"text-align: right;\">\n",
       "      <th></th>\n",
       "      <th>id</th>\n",
       "      <th>text</th>\n",
       "      <th>tag</th>\n",
       "    </tr>\n",
       "  </thead>\n",
       "  <tbody>\n",
       "    <tr>\n",
       "      <th>1</th>\n",
       "      <td>000.jpeg</td>\n",
       "      <td>.</td>\n",
       "      <td>O</td>\n",
       "    </tr>\n",
       "    <tr>\n",
       "      <th>2</th>\n",
       "      <td>000.jpeg</td>\n",
       "      <td>0404852</td>\n",
       "      <td>B-PHONE</td>\n",
       "    </tr>\n",
       "    <tr>\n",
       "      <th>3</th>\n",
       "      <td>000.jpeg</td>\n",
       "      <td>\"8881,\"</td>\n",
       "      <td>I-PHONE</td>\n",
       "    </tr>\n",
       "    <tr>\n",
       "      <th>4</th>\n",
       "      <td>000.jpeg</td>\n",
       "      <td>90309</td>\n",
       "      <td>B-PHONE</td>\n",
       "    </tr>\n",
       "    <tr>\n",
       "      <th>5</th>\n",
       "      <td>000.jpeg</td>\n",
       "      <td>52549</td>\n",
       "      <td>I-PHONE</td>\n",
       "    </tr>\n",
       "    <tr>\n",
       "      <th>6</th>\n",
       "      <td>000.jpeg</td>\n",
       "      <td>fi</td>\n",
       "      <td>O</td>\n",
       "    </tr>\n",
       "    <tr>\n",
       "      <th>7</th>\n",
       "      <td>000.jpeg</td>\n",
       "      <td>/laurelsoverseaseducation</td>\n",
       "      <td>O</td>\n",
       "    </tr>\n",
       "    <tr>\n",
       "      <th>8</th>\n",
       "      <td>000.jpeg</td>\n",
       "      <td>@</td>\n",
       "      <td>O</td>\n",
       "    </tr>\n",
       "    <tr>\n",
       "      <th>9</th>\n",
       "      <td>000.jpeg</td>\n",
       "      <td>laurels</td>\n",
       "      <td>B-ORG</td>\n",
       "    </tr>\n",
       "    <tr>\n",
       "      <th>10</th>\n",
       "      <td>000.jpeg</td>\n",
       "      <td>overseas</td>\n",
       "      <td>I-ORG</td>\n",
       "    </tr>\n",
       "  </tbody>\n",
       "</table>\n",
       "</div>"
      ],
      "text/plain": [
       "          id                       text      tag\n",
       "1   000.jpeg                          .        O\n",
       "2   000.jpeg                    0404852  B-PHONE\n",
       "3   000.jpeg                    \"8881,\"  I-PHONE\n",
       "4   000.jpeg                      90309  B-PHONE\n",
       "5   000.jpeg                      52549  I-PHONE\n",
       "6   000.jpeg                         fi        O\n",
       "7   000.jpeg  /laurelsoverseaseducation        O\n",
       "8   000.jpeg                          @        O\n",
       "9   000.jpeg                    laurels    B-ORG\n",
       "10  000.jpeg                   overseas    I-ORG"
      ]
     },
     "execution_count": 20,
     "metadata": {},
     "output_type": "execute_result"
    }
   ],
   "source": [
    "dataClean.head(10)"
   ]
  },
  {
   "cell_type": "code",
   "execution_count": 21,
   "id": "fc2a557c-d1ba-4cd0-9740-c0023f7a6d63",
   "metadata": {},
   "outputs": [],
   "source": [
    "### Convert Data into spacy format"
   ]
  },
  {
   "cell_type": "code",
   "execution_count": 36,
   "id": "2010cba8-a33c-4689-aafe-ba5dac1412d4",
   "metadata": {},
   "outputs": [],
   "source": [
    "group = dataClean.groupby(by='id')"
   ]
  },
  {
   "cell_type": "code",
   "execution_count": 37,
   "id": "6f130ad8-ea77-4968-8b81-667272d38ce2",
   "metadata": {},
   "outputs": [],
   "source": [
    "cards = group.groups.keys()"
   ]
  },
  {
   "cell_type": "code",
   "execution_count": 38,
   "id": "c6785f9c-227f-4b4b-aeca-47d0406c9d30",
   "metadata": {},
   "outputs": [
    {
     "data": {
      "text/plain": [
       "dict_keys(['000.jpeg', '001.jpeg', '002.jpeg', '003.jpeg', '004.jpeg', '007.jpeg', '008.jpeg', '009.jpeg', '010.jpeg', '011.jpeg', '012.jpeg', '013.jpeg', '014.jpeg', '015.jpeg', '016.jpeg', '017.jpeg', '018.jpeg', '020.jpeg', '021.jpeg', '022.jpeg', '023.jpeg', '024.jpeg', '025.jpeg', '027.jpeg', '028.jpeg', '030.jpeg', '031.jpeg', '032.jpeg', '033.jpeg', '034.jpeg', '035.jpeg', '036.jpeg', '037.jpeg', '038.jpeg', '039.jpeg', '040.jpeg', '041.jpeg', '042.jpeg', '043.jpeg', '044.jpeg', '045.jpeg', '047.jpeg', '048.jpeg', '049.jpeg', '050.jpeg', '051.jpeg', '052.jpeg', '053.jpeg', '054.jpeg', '055.jpeg', '056.jpeg', '057.jpeg', '058.jpeg', '059.jpeg', '060.jpeg', '061.jpeg', '062.jpeg', '063.jpeg', '064.jpeg', '065.jpeg', '066.jpeg', '067.jpeg', '068.jpeg', '069.jpeg', '070.jpeg', '071.jpeg', '072.jpeg', '073.jpeg', '074.jpeg', '075.jpeg', '076.jpeg', '078.jpeg', '079.jpeg', '080.jpeg', '081.jpeg', '082.jpeg', '083.jpeg', '084.jpeg', '085.jpeg', '086.jpeg', '087.jpeg', '088.jpeg', '089.jpeg', '090.jpeg', '091.jpeg', '092.jpeg', '094.jpeg', '095.jpeg', '096.jpeg', '097.jpeg', '098.jpeg', '099.jpeg', '101.jpeg', '102.jpeg', '104.jpeg', '106.jpeg', '107.jpeg', '108.jpeg', '109.jpeg', '110.jpeg', '111.jpeg', '112.jpeg', '113.jpeg', '114.jpeg', '115.jpeg', '117.jpeg', '118.jpeg', '119.jpeg', '120.jpeg', '121.jpeg', '122.jpeg', '123.jpeg', '124.jpeg', '125.jpeg', '126.jpeg', '127.jpeg', '129.jpeg', '130.jpeg', '131.jpeg', '132.jpeg', '133.jpeg', '134.jpeg', '135.jpeg', '136.jpeg', '137.jpeg', '138.jpeg', '139.jpeg', '140.jpeg', '141.jpeg', '142.jpeg', '143.jpeg', '144.jpeg', '145.jpeg', '146.jpeg', '147.jpeg', '148.jpeg', '149.jpeg', '150.jpeg', '151.jpeg', '152.jpeg', '153.jpeg', '154.jpeg', '155.jpeg', '156.jpeg', '157.jpeg', '158.jpeg', '159.jpeg', '160.jpeg', '161.jpeg', '162.jpeg', '163.jpeg', '164.jpeg', '165.jpeg', '166.jpeg', '167.jpeg', '168.jpeg', '169.jpeg', '170.jpeg', '171.jpeg', '172.jpeg', '173.jpeg', '174.jpeg', '175.jpeg', '176.jpeg', '177.jpeg', '178.jpeg', '179.jpeg', '180.jpeg', '181.jpeg', '182.jpeg', '183.jpeg', '185.jpeg', '186.jpeg', '187.jpeg', '188.jpeg', '189.jpeg', '190.jpeg', '191.jpeg', '193.jpeg', '194.jpeg', '195.jpeg', '196.jpeg', '197.jpeg', '198.jpeg', '199.jpeg', '200.jpeg', '201.jpeg', '202.jpeg', '203.jpeg', '204.jpeg', '205.jpeg', '206.jpeg', '207.jpeg', '208.jpeg', '209.jpeg', '210.jpeg', '211.jpeg', '212.jpeg', '213.jpeg', '214.jpeg', '215.jpeg', '216.jpeg', '217.jpeg', '218.jpeg', '219.jpeg', '220.jpeg', '221.jpeg', '222.jpeg', '223.jpeg', '224.jpeg', '225.jpeg', '226.jpeg', '227.jpeg', '229.jpeg', '231.jpeg', '232.jpeg', '233.jpeg', '234.jpeg', '235.jpeg', '236.jpeg', '237.jpeg', '238.jpeg', '239.jpeg', '240.jpeg', '241.jpeg', '242.jpeg', '243.jpeg', '244.jpeg', '245.jpeg', '246.jpeg', '247.jpeg', '248.jpeg', '249.jpeg', '250.jpeg', '251.jpeg', '252.jpeg', '253.jpeg', '254.jpeg', '255.jpeg', '256.jpeg', '257.jpeg', '258.jpeg', '259.jpeg', '260.jpeg', '261.jpeg', '262.jpeg', '263.jpeg', '264.jpeg', '265.jpeg', '266.jpeg', '268.jpeg', '269.jpeg', '270.jpeg', '271.jpeg', '273.jpeg', '274.jpeg', '275.jpeg', '276.jpeg', '277.jpeg', '278.jpeg', '280.jpeg', '282.jpeg', '284.jpeg', '286.jpeg', '287.jpeg', '288.jpeg', '290.jpeg'])"
      ]
     },
     "execution_count": 38,
     "metadata": {},
     "output_type": "execute_result"
    }
   ],
   "source": [
    "card"
   ]
  },
  {
   "cell_type": "code",
   "execution_count": 31,
   "id": "17616105-c6c4-4773-9ea6-559ff1d36f4c",
   "metadata": {},
   "outputs": [],
   "source": [
    "\n",
    "for card in cards:\n",
    "\n",
    "    grouparray = group.get_group(card)[['text', 'tag']].values\n",
    "    content = ''\n",
    "    annotations = {'entities':[]}\n",
    "    start = 0\n",
    "    end = 0\n",
    "    for text, label in grouparray:\n",
    "        text = str(text)\n",
    "        stringLength = len(text) + 1\n",
    "    \n",
    "        start = end\n",
    "        end = start + stringLength\n",
    "    \n",
    "        if label != 'O':\n",
    "            annot = (start, end-1, label)\n",
    "            annotations['entities'].append(annot)\n",
    "    \n",
    "        content = content + text + ' '"
   ]
  },
  {
   "cell_type": "code",
   "execution_count": 32,
   "id": "d5938371-1444-4dd2-a7c7-8607f23e7e5d",
   "metadata": {},
   "outputs": [
    {
     "data": {
      "text/plain": [
       "'. 0404852 \"8881,\" 90309 52549 fi /laurelsoverseaseducation @ laurels overseas educational consultancy pvt. ltd. sea u.k australia canada ireland www.laurelseducation.com info@laurelseducation.com '"
      ]
     },
     "execution_count": 32,
     "metadata": {},
     "output_type": "execute_result"
    }
   ],
   "source": [
    "content"
   ]
  },
  {
   "cell_type": "code",
   "execution_count": 33,
   "id": "ea66f298-2801-46d6-a304-1b8417ed8787",
   "metadata": {},
   "outputs": [
    {
     "data": {
      "text/plain": [
       "{'entities': [(2, 9, 'B-PHONE'),\n",
       "  (10, 17, 'I-PHONE'),\n",
       "  (18, 23, 'B-PHONE'),\n",
       "  (24, 29, 'I-PHONE'),\n",
       "  (61, 68, 'B-ORG'),\n",
       "  (69, 77, 'I-ORG'),\n",
       "  (78, 89, 'I-ORG'),\n",
       "  (90, 101, 'I-ORG'),\n",
       "  (102, 106, 'I-ORG'),\n",
       "  (107, 111, 'I-ORG'),\n",
       "  (145, 169, 'B-WEB'),\n",
       "  (170, 195, 'B-EMAIL')]}"
      ]
     },
     "execution_count": 33,
     "metadata": {},
     "output_type": "execute_result"
    }
   ],
   "source": [
    "annotations"
   ]
  },
  {
   "cell_type": "code",
   "execution_count": null,
   "id": "d1f3fbf8-f1d7-4f51-b269-c28e5dbbb41a",
   "metadata": {},
   "outputs": [],
   "source": []
  },
  {
   "cell_type": "code",
   "execution_count": null,
   "id": "ab94c325-1ac4-49eb-8411-060267e41ccd",
   "metadata": {},
   "outputs": [],
   "source": []
  }
 ],
 "metadata": {
  "kernelspec": {
   "display_name": "Python 3 (ipykernel)",
   "language": "python",
   "name": "python3"
  },
  "language_info": {
   "codemirror_mode": {
    "name": "ipython",
    "version": 3
   },
   "file_extension": ".py",
   "mimetype": "text/x-python",
   "name": "python",
   "nbconvert_exporter": "python",
   "pygments_lexer": "ipython3",
   "version": "3.11.3"
  },
  "widgets": {
   "application/vnd.jupyter.widget-state+json": {
    "state": {},
    "version_major": 2,
    "version_minor": 0
   }
  }
 },
 "nbformat": 4,
 "nbformat_minor": 5
}
