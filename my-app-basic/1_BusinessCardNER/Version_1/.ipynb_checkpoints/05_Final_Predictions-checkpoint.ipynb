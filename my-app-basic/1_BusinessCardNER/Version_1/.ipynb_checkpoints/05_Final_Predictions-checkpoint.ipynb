{
 "cells": [
  {
   "cell_type": "code",
   "execution_count": 8,
   "id": "a14df0c5-a235-4f9b-ae6e-2d7964831880",
   "metadata": {},
   "outputs": [],
   "source": [
    "import cv2\n",
    "import predictions as pred"
   ]
  },
  {
   "cell_type": "code",
   "execution_count": 10,
   "id": "ed149d67-0c95-4436-8410-eec923590b1c",
   "metadata": {},
   "outputs": [],
   "source": [
    "img = cv2.imread('./data/242.jpeg')\n",
    "\n",
    "cv2.namedWindow('original', cv2.WINDOW_AUTOSIZE)\n",
    "cv2.imshow('original', img)\n",
    "cv2.waitKey(0)\n",
    "cv2.destroyAllWindows()"
   ]
  },
  {
   "cell_type": "code",
   "execution_count": null,
   "id": "cb61ed74-9437-4e2a-b45c-48b8dd5c7774",
   "metadata": {},
   "outputs": [],
   "source": [
    "img_results, entities = pred.getPredictions(img)\n",
    "\n",
    "print(entities)\n",
    "cv2.namedWindow('predictions', cv2.WINDOW_NORMAL)\n",
    "cv2.imshow('predictions', img_results)\n",
    "cv2.waitKey(0)\n",
    "cv2.destroyAllWindows()"
   ]
  }
 ],
 "metadata": {
  "kernelspec": {
   "display_name": "Python 3 (ipykernel)",
   "language": "python",
   "name": "python3"
  },
  "language_info": {
   "codemirror_mode": {
    "name": "ipython",
    "version": 3
   },
   "file_extension": ".py",
   "mimetype": "text/x-python",
   "name": "python",
   "nbconvert_exporter": "python",
   "pygments_lexer": "ipython3",
   "version": "3.11.3"
  },
  "widgets": {
   "application/vnd.jupyter.widget-state+json": {
    "state": {},
    "version_major": 2,
    "version_minor": 0
   }
  }
 },
 "nbformat": 4,
 "nbformat_minor": 5
}
