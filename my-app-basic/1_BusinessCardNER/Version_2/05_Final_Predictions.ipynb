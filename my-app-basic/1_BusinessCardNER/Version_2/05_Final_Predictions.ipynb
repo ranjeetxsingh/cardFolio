{
 "cells": [
  {
   "cell_type": "code",
   "execution_count": 1,
   "id": "a14df0c5-a235-4f9b-ae6e-2d7964831880",
   "metadata": {},
   "outputs": [],
   "source": [
    "import cv2\n",
    "import predictions as pred"
   ]
  },
  {
   "cell_type": "code",
   "execution_count": 4,
   "id": "ed149d67-0c95-4436-8410-eec923590b1c",
   "metadata": {},
   "outputs": [],
   "source": [
    "img = cv2.imread('./images/006.jpeg')\n",
    "\n",
    "cv2.namedWindow('original', cv2.WINDOW_AUTOSIZE)\n",
    "cv2.imshow('original', img)\n",
    "cv2.waitKey(0)\n",
    "cv2.destroyAllWindows()"
   ]
  },
  {
   "cell_type": "code",
   "execution_count": 5,
   "id": "cb61ed74-9437-4e2a-b45c-48b8dd5c7774",
   "metadata": {},
   "outputs": [
    {
     "name": "stderr",
     "output_type": "stream",
     "text": [
      "E:\\media\\university\\mini-project\\udemy_course\\1_BusinessCardNER\\Version_2\\predictions.py:121: FutureWarning: Series.__getitem__ treating keys as positions is deprecated. In a future version, integer keys will always be treated as labels (consistent with DataFrame behavior). To access a value by position, use `ser.iloc[pos]`\n",
      "  lambda x: doc_text[x[0]:x[1]], axis = 1\n",
      "E:\\media\\university\\mini-project\\udemy_course\\1_BusinessCardNER\\Version_2\\predictions.py:138: SettingWithCopyWarning: \n",
      "A value is trying to be set on a copy of a slice from a DataFrame.\n",
      "Try using .loc[row_indexer,col_indexer] = value instead\n",
      "\n",
      "See the caveats in the documentation: https://pandas.pydata.org/pandas-docs/stable/user_guide/indexing.html#returning-a-view-versus-a-copy\n",
      "  df_clean['end'] = df_clean['text'].apply(lambda x: len(x)+1).cumsum() - 1\n",
      "E:\\media\\university\\mini-project\\udemy_course\\1_BusinessCardNER\\Version_2\\predictions.py:139: FutureWarning: Series.__getitem__ treating keys as positions is deprecated. In a future version, integer keys will always be treated as labels (consistent with DataFrame behavior). To access a value by position, use `ser.iloc[pos]`\n",
      "  df_clean['start'] = df_clean[['text', 'end']].apply(lambda x: x[1] - len(x[0]), axis = 1)\n",
      "E:\\media\\university\\mini-project\\udemy_course\\1_BusinessCardNER\\Version_2\\predictions.py:139: SettingWithCopyWarning: \n",
      "A value is trying to be set on a copy of a slice from a DataFrame.\n",
      "Try using .loc[row_indexer,col_indexer] = value instead\n",
      "\n",
      "See the caveats in the documentation: https://pandas.pydata.org/pandas-docs/stable/user_guide/indexing.html#returning-a-view-versus-a-copy\n",
      "  df_clean['start'] = df_clean[['text', 'end']].apply(lambda x: x[1] - len(x[0]), axis = 1)\n",
      "E:\\media\\university\\mini-project\\udemy_course\\1_BusinessCardNER\\Version_2\\predictions.py:152: SettingWithCopyWarning: \n",
      "A value is trying to be set on a copy of a slice from a DataFrame.\n",
      "Try using .loc[row_indexer,col_indexer] = value instead\n",
      "\n",
      "See the caveats in the documentation: https://pandas.pydata.org/pandas-docs/stable/user_guide/indexing.html#returning-a-view-versus-a-copy\n",
      "  bb_df['label'] = bb_df['label'].apply(lambda x: x[2:])\n",
      "E:\\media\\university\\mini-project\\udemy_course\\1_BusinessCardNER\\Version_2\\predictions.py:154: SettingWithCopyWarning: \n",
      "A value is trying to be set on a copy of a slice from a DataFrame.\n",
      "Try using .loc[row_indexer,col_indexer] = value instead\n",
      "\n",
      "See the caveats in the documentation: https://pandas.pydata.org/pandas-docs/stable/user_guide/indexing.html#returning-a-view-versus-a-copy\n",
      "  bb_df['group'] = bb_df['label'].apply(grp_gen.getgroup)\n",
      "E:\\media\\university\\mini-project\\udemy_course\\1_BusinessCardNER\\Version_2\\predictions.py:158: SettingWithCopyWarning: \n",
      "A value is trying to be set on a copy of a slice from a DataFrame.\n",
      "Try using .loc[row_indexer,col_indexer] = value instead\n",
      "\n",
      "See the caveats in the documentation: https://pandas.pydata.org/pandas-docs/stable/user_guide/indexing.html#returning-a-view-versus-a-copy\n",
      "  bb_df[['left', 'top', 'width', 'height']] = bb_df[['left', 'top', 'width', 'height']].astype(int)\n",
      "E:\\media\\university\\mini-project\\udemy_course\\1_BusinessCardNER\\Version_2\\predictions.py:159: SettingWithCopyWarning: \n",
      "A value is trying to be set on a copy of a slice from a DataFrame.\n",
      "Try using .loc[row_indexer,col_indexer] = value instead\n",
      "\n",
      "See the caveats in the documentation: https://pandas.pydata.org/pandas-docs/stable/user_guide/indexing.html#returning-a-view-versus-a-copy\n",
      "  bb_df['right'] = bb_df['left'] + bb_df['width']\n",
      "E:\\media\\university\\mini-project\\udemy_course\\1_BusinessCardNER\\Version_2\\predictions.py:160: SettingWithCopyWarning: \n",
      "A value is trying to be set on a copy of a slice from a DataFrame.\n",
      "Try using .loc[row_indexer,col_indexer] = value instead\n",
      "\n",
      "See the caveats in the documentation: https://pandas.pydata.org/pandas-docs/stable/user_guide/indexing.html#returning-a-view-versus-a-copy\n",
      "  bb_df['bottom'] = bb_df['top'] + bb_df['height']\n",
      "E:\\media\\university\\mini-project\\udemy_course\\1_BusinessCardNER\\Version_2\\predictions.py:168: FutureWarning: The provided callable <built-in function min> is currently using SeriesGroupBy.min. In a future version of pandas, the provided callable will be used directly. To keep current behavior pass the string \"min\" instead.\n",
      "  img_tagging = group_tag_img.agg({\n",
      "E:\\media\\university\\mini-project\\udemy_course\\1_BusinessCardNER\\Version_2\\predictions.py:168: FutureWarning: The provided callable <built-in function max> is currently using SeriesGroupBy.max. In a future version of pandas, the provided callable will be used directly. To keep current behavior pass the string \"max\" instead.\n",
      "  img_tagging = group_tag_img.agg({\n"
     ]
    },
    {
     "name": "stdout",
     "output_type": "stream",
     "text": [
      "{'NAME': [], 'ORG': ['Power'], 'DES': [], 'PHONE': ['9488490076'], 'EMAIL': ['a1', 'jayaraj5377@gmail.com'], 'WEB': []}\n"
     ]
    }
   ],
   "source": [
    "img_results, entities = pred.getPredictions(img)\n",
    "\n",
    "print(entities)\n",
    "cv2.namedWindow('predictions', cv2.WINDOW_NORMAL)\n",
    "cv2.imshow('predictions', img_results)\n",
    "cv2.waitKey(0)\n",
    "cv2.destroyAllWindows()"
   ]
  },
  {
   "cell_type": "code",
   "execution_count": null,
   "id": "4b57e287-14fa-41f6-a3fa-08932c0c123f",
   "metadata": {},
   "outputs": [],
   "source": []
  }
 ],
 "metadata": {
  "kernelspec": {
   "display_name": "Python 3 (ipykernel)",
   "language": "python",
   "name": "python3"
  },
  "language_info": {
   "codemirror_mode": {
    "name": "ipython",
    "version": 3
   },
   "file_extension": ".py",
   "mimetype": "text/x-python",
   "name": "python",
   "nbconvert_exporter": "python",
   "pygments_lexer": "ipython3",
   "version": "3.11.3"
  },
  "widgets": {
   "application/vnd.jupyter.widget-state+json": {
    "state": {},
    "version_major": 2,
    "version_minor": 0
   }
  }
 },
 "nbformat": 4,
 "nbformat_minor": 5
}
